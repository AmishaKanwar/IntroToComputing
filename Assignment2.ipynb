{
 "cells": [
  {
   "cell_type": "markdown",
   "metadata": {},
   "source": [
    "1. For a given input string “Python is a case sensitive language”. Write python code for the following:\n",
    "\n",
    "a. Find the length of the input string.\n",
    "\n",
    "b. Reverse the order of the string in one line code.\n",
    "\n",
    "c. Using Slice function store “a case sensitive” in new string.\n",
    "\n",
    "d. Replace “a case sensitive” with “object oriented”.\n",
    "\n",
    "e. Find index of substring “a” in the given input string.\n",
    "\n",
    "f. Remove the white spaces from the given input string."
   ]
  },
  {
   "cell_type": "code",
   "execution_count": 2,
   "metadata": {},
   "outputs": [
    {
     "name": "stdout",
     "output_type": "stream",
     "text": [
      "36\n",
      ".egaugnal evitisnes esac a si nohtyP\n",
      "a case sensitive\n",
      "object oriented\n",
      "10\n",
      "Pythonisacasesensitivelanguage.\n"
     ]
    }
   ],
   "source": [
    "#Q1\n",
    "str1 = \"Python is a case sensitive language.\"\n",
    "print(len(str1), str1[::-1], sep = '\\n')\n",
    "str2 = str1[slice(10, 26)]\n",
    "print(str2)\n",
    "print(str2.replace(\"a case sensitive\", \"object oriented\"))\n",
    "print(str1.find('a'))\n",
    "print(str1.replace(' ', ''))"
   ]
  },
  {
   "cell_type": "markdown",
   "metadata": {},
   "source": [
    "2. Store your name, SID, department name and CGPA into different variables. With the help of String formatting print the following output:\n",
    "\n",
    "Hey, ABC Here!\n",
    "\n",
    "My SID is 2110XXXX\n",
    "\n",
    "I am from XYZ department and my CGPA is 9.9"
   ]
  },
  {
   "cell_type": "code",
   "execution_count": 16,
   "metadata": {},
   "outputs": [
    {
     "name": "stdout",
     "output_type": "stream",
     "text": [
      "Hey, Amisha here!\n",
      "My SID is 21107024\n",
      "I am from Mechanical department and my CGPA is 9.55\n"
     ]
    }
   ],
   "source": [
    "#Q2\n",
    "name = 'Amisha'\n",
    "sid = 21107024\n",
    "dept_name = 'Mechanical'\n",
    "cgpa = 9.55\n",
    "print(f\"Hey, {name} here!\\nMy SID is {sid}\\nI am from {dept_name} department and my CGPA is {cgpa}\")"
   ]
  },
  {
   "cell_type": "markdown",
   "metadata": {},
   "source": [
    "3. For a=56 and b=10 with the help of bitwise operators calculate the following:\n",
    "\n",
    "a. a&b\n",
    "\n",
    "b. a|b\n",
    "\n",
    "c. a^b\n",
    "\n",
    "d. Left shift both a and b with 2 bits.\n",
    "\n",
    "e. Right shift a with 2 bits and b with 4 bits."
   ]
  },
  {
   "cell_type": "code",
   "execution_count": 21,
   "metadata": {},
   "outputs": [
    {
     "name": "stdout",
     "output_type": "stream",
     "text": [
      "8 58 50\n",
      "224 40\n",
      "14 0\n"
     ]
    }
   ],
   "source": [
    "#Q3\n",
    "a = 56\n",
    "b = 10\n",
    "print(a & b, a | b, a ^ b)\n",
    "print(a << 2, b << 2)\n",
    "print(a >> 2, b >> 4)"
   ]
  },
  {
   "cell_type": "markdown",
   "metadata": {},
   "source": [
    "4. Write a python program to check if the word “name” is present in the string entered by the user (Print : “Yes” or “No”)."
   ]
  },
  {
   "cell_type": "code",
   "execution_count": 22,
   "metadata": {},
   "outputs": [
    {
     "name": "stdout",
     "output_type": "stream",
     "text": [
      "No\n"
     ]
    }
   ],
   "source": [
    "#Q4\n",
    "str_input = input(\"Enter any alphanummeric text (symbols can be included):\")\n",
    "if 'name' in str_input:\n",
    "    print(\"Yes\")\n",
    "else:\n",
    "    print(\"No\")"
   ]
  },
  {
   "cell_type": "markdown",
   "metadata": {},
   "source": [
    "5. For any three lengths, there is a simple test to see if it is possible to form a triangle. If any of the three lengths is greater than the sum of the other two, then you cannot form a triangle. Otherwise, Enter three sides of a triangle, converts them to integers, and to check whether the given input lengths can form a triangle or not (Print : “Yes” or “No”).[Don’t use if else here]."
   ]
  },
  {
   "cell_type": "code",
   "execution_count": 35,
   "metadata": {},
   "outputs": [
    {
     "name": "stdout",
     "output_type": "stream",
     "text": [
      "No\n"
     ]
    }
   ],
   "source": [
    "#Q5\n",
    "a = int(input(\"Enter the length of 1st side of a triangle:\"))\n",
    "b = int(input(\"Enter the length of 2nd side of a triangle:\"))\n",
    "c = int(input(\"Enter the length of 3rd side of a triangle:\"))\n",
    "end_result = (a>=(b+c)) | (b>=(a+c)) | (c>=(a+b)) == 1\n",
    "print(str(end_result).replace('True', 'No').replace('False', 'Yes'))"
   ]
  },
  {
   "cell_type": "markdown",
   "metadata": {},
   "source": [
    "6. Given two numbers ‘a’ and b’. Write a program to count number of bits needed to be flipped to convert ‘a’ to ‘b’."
   ]
  },
  {
   "cell_type": "code",
   "execution_count": 41,
   "metadata": {},
   "outputs": [
    {
     "name": "stdout",
     "output_type": "stream",
     "text": [
      "2\n"
     ]
    }
   ],
   "source": [
    "#Q6\n",
    "a = int(input(\"Enter 1st no.:\"))\n",
    "b = int(input(\"Enter 2nd no.:\"))\n",
    "print((str(bin(a ^ b))).count('1'))"
   ]
  }
 ],
 "metadata": {
  "interpreter": {
   "hash": "9b1ddf02dfd7b2f1cb1e45a376e42cc8e5cc5aa8df671d8915e804c816f28eb7"
  },
  "kernelspec": {
   "display_name": "Python 3.10.1 64-bit",
   "language": "python",
   "name": "python3"
  },
  "language_info": {
   "codemirror_mode": {
    "name": "ipython",
    "version": 3
   },
   "file_extension": ".py",
   "mimetype": "text/x-python",
   "name": "python",
   "nbconvert_exporter": "python",
   "pygments_lexer": "ipython3",
   "version": "3.10.1"
  },
  "orig_nbformat": 4
 },
 "nbformat": 4,
 "nbformat_minor": 2
}
