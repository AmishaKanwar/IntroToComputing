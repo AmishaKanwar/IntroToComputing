{
  "nbformat": 4,
  "nbformat_minor": 0,
  "metadata": {
    "colab": {
      "name": "Assignment1.ipynb",
      "provenance": [],
      "collapsed_sections": []
    },
    "kernelspec": {
      "name": "python3",
      "display_name": "Python 3"
    },
    "language_info": {
      "name": "python"
    }
  },
  "cells": [
    {
      "cell_type": "markdown",
      "source": [
        "***1. Write a Python program to find average of three numbers entered by the user.***\n",
        "\n",
        "---\n",
        "\n"
      ],
      "metadata": {
        "id": "F5-up9ZQQ_1A"
      }
    },
    {
      "cell_type": "code",
      "execution_count": null,
      "metadata": {
        "colab": {
          "base_uri": "https://localhost:8080/"
        },
        "id": "XYbXn60bpgH5",
        "outputId": "e8d81d0b-dcb3-4a1c-d045-dcb90912a35c"
      },
      "outputs": [
        {
          "output_type": "stream",
          "name": "stdout",
          "text": [
            "Enter 1st number:54\n",
            "Enter 2nd number:56.8\n",
            "Enter 3rd number:789.9\n",
            "The average of the three numbers is 300.2333333333333\n"
          ]
        }
      ],
      "source": [
        "#Taking input from the user (3 numbers)\n",
        "num1 = float(input(\"Enter 1st number:\"))\n",
        "num2 = float(input(\"Enter 2nd number:\"))\n",
        "num3 = float(input(\"Enter 3rd number:\"))\n",
        "avg = (num1 + num2 + num3)/3   # Computing average using arithmetic operators\n",
        "print(\"The average of the three numbers is\", avg)"
      ]
    },
    {
      "cell_type": "markdown",
      "source": [
        "<i><b>2. Write a python program to compute a person's income tax. Assume following tax laws:\n",
        "\n",
        "* All taxpayers are charged a flat tax rate of 20%.\n",
        "\n",
        "* All taxpayers are allowed a $10,000 standard deduction.\n",
        "\n",
        "* For each dependent, a taxpayer is allowed an additional $3,000 deduction.\n",
        "\n",
        "* Gross income must be entered to the nearest penny. \n",
        "\n",
        "Gross Income and the number of dependents must be asked from the user. \n",
        "\n",
        "Hint:\n",
        "Taxable income = Gross Income - Standard deduction - (Dependent deduction * No. of dependents) \n",
        "Tax = Taxable Income * Tax Rate </b></i>\n",
        "\n",
        "---\n",
        "\n"
      ],
      "metadata": {
        "id": "srAEPlFgRLZs"
      }
    },
    {
      "cell_type": "code",
      "source": [
        "# Python program to compute a person's income tax\n",
        "gross_income = float(input(\"Enter gross income (in $):\"))\n",
        "num_dependents = int(input(\"Enter no. of dependents:\"))\n",
        "std_deduction = 10000\n",
        "tax_rate = 20\n",
        "dependent_deduct = 3000\n",
        "# round() is used to round off the gross income to the nearest penny\n",
        "taxable_income = (round(gross_income, 2)) - std_deduction - (dependent_deduct * num_dependents)\n",
        "tax = taxable_income * tax_rate\n",
        "print(\"Income Tax (in $):\", tax)"
      ],
      "metadata": {
        "colab": {
          "base_uri": "https://localhost:8080/"
        },
        "id": "3MqR1iq3HKTs",
        "outputId": "014d75d5-6bcf-472c-dc86-c249211a4f2f"
      },
      "execution_count": null,
      "outputs": [
        {
          "output_type": "stream",
          "name": "stdout",
          "text": [
            "Enter gross income (in $):40000\n",
            "Enter no. of dependents:2\n",
            "Income Tax (in $): 480000.0\n"
          ]
        }
      ]
    },
    {
      "cell_type": "markdown",
      "source": [
        "***3. Write a program that asks the user for a number of seconds and prints out how many minutes and seconds that is. For instance, 200 seconds is 3 minutes and 20 seconds. [Hint: Use the //operator to get minutes and the % operator to get seconds.]***\n",
        "\n",
        "---\n",
        "\n"
      ],
      "metadata": {
        "id": "RFCdg7U5R8LH"
      }
    },
    {
      "cell_type": "code",
      "source": [
        "TotalSeconds = int(input(\"Enter number of seconds:\"))\n",
        "# Aritmetic operators used to convert the input of total seconds from the user to minutes and seconds\n",
        "min = TotalSeconds // 60\n",
        "sec = TotalSeconds % 60\n",
        "print(TotalSeconds, \"seconds =\", min, \"minutes\", sec, \"seconds\")"
      ],
      "metadata": {
        "colab": {
          "base_uri": "https://localhost:8080/"
        },
        "id": "u9lS9OiULpip",
        "outputId": "dfcf17bf-e807-4104-c0d2-f144dbda934c"
      },
      "execution_count": null,
      "outputs": [
        {
          "output_type": "stream",
          "name": "stdout",
          "text": [
            "Enter number of seconds:400\n",
            "400 seconds = 6 minutes 40 seconds\n"
          ]
        }
      ]
    },
    {
      "cell_type": "markdown",
      "source": [
        "***4. Write a python program to add three numbers 25+’25’+25.0 and produce result 75 as string.***\n",
        "\n",
        "---\n",
        "\n"
      ],
      "metadata": {
        "id": "tu0p9k6OTfmH"
      }
    },
    {
      "cell_type": "code",
      "source": [
        "number1 = 25\n",
        "number2 = '25'\n",
        "number3 = 25.0\n",
        "# Using str() to convert the resultant integer value into string\n",
        "sum = str(number1 + int(number2) + int(number3))\n",
        "print(sum, type(sum), sep = '\\n')"
      ],
      "metadata": {
        "colab": {
          "base_uri": "https://localhost:8080/"
        },
        "id": "Nh79NhZ4M2gU",
        "outputId": "f750220b-3533-4d7b-b43f-0e8e08f393cc"
      },
      "execution_count": null,
      "outputs": [
        {
          "output_type": "stream",
          "name": "stdout",
          "text": [
            "75\n",
            "<class 'str'>\n"
          ]
        }
      ]
    },
    {
      "cell_type": "markdown",
      "source": [
        "***5. Write a program that prints out the sine and cosine of the angles ranging from 0 to 345◦ in 15◦ increments. Each result should be rounded to 4 decimal places. Sample output is shown below:***\n",
        "\n",
        "---\n",
        "\n"
      ],
      "metadata": {
        "id": "UnhNPBI8Tar3"
      }
    },
    {
      "cell_type": "code",
      "source": [
        "import math\n",
        "# for loop utilised to print the required output\n",
        "for i in range(0, 346, 15):\n",
        "  print(i, \"---\", round(math.sin(math.radians(i)), 4), round(math.cos(math.radians(i)), 4))"
      ],
      "metadata": {
        "colab": {
          "base_uri": "https://localhost:8080/"
        },
        "id": "NOHwUV48OAih",
        "outputId": "d949b049-70df-4bad-c424-38c8635a6534"
      },
      "execution_count": null,
      "outputs": [
        {
          "output_type": "stream",
          "name": "stdout",
          "text": [
            "0 --- 0.0 1.0\n",
            "15 --- 0.2588 0.9659\n",
            "30 --- 0.5 0.866\n",
            "45 --- 0.7071 0.7071\n",
            "60 --- 0.866 0.5\n",
            "75 --- 0.9659 0.2588\n",
            "90 --- 1.0 0.0\n",
            "105 --- 0.9659 -0.2588\n",
            "120 --- 0.866 -0.5\n",
            "135 --- 0.7071 -0.7071\n",
            "150 --- 0.5 -0.866\n",
            "165 --- 0.2588 -0.9659\n",
            "180 --- 0.0 -1.0\n",
            "195 --- -0.2588 -0.9659\n",
            "210 --- -0.5 -0.866\n",
            "225 --- -0.7071 -0.7071\n",
            "240 --- -0.866 -0.5\n",
            "255 --- -0.9659 -0.2588\n",
            "270 --- -1.0 -0.0\n",
            "285 --- -0.9659 0.2588\n",
            "300 --- -0.866 0.5\n",
            "315 --- -0.7071 0.7071\n",
            "330 --- -0.5 0.866\n",
            "345 --- -0.2588 0.9659\n"
          ]
        }
      ]
    }
  ]
}